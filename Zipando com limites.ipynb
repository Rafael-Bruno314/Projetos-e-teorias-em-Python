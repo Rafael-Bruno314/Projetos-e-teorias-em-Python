{
 "cells": [
  {
   "cell_type": "code",
   "execution_count": null,
   "id": "4c66b4b4",
   "metadata": {},
   "outputs": [],
   "source": [
    "import os\n",
    "import zipfile\n",
    "import shutil\n",
    "\n",
    "\n",
    "sre = \"Metropolitana C\"\n",
    "caminho = \"Z:\\\\Organizacao-Mercado\\\\Comprovações SREs\\\\\" + sre + \"\\\\Meta 2.3 - Ater OeM\\\\Enviar SEI\\\\Arquivos comprimidos\\\\\"\n",
    "onde_esta_o_arquivo_do_codigo = \"C:\\\\Users\\\\61445\\\\Downloads\\\\\"\n",
    "tamanho_limite = 20866662 #19,9 Mb\n",
    "\n",
    "arquivos = os.listdir(caminho)\n",
    "indice = 0\n",
    "num_zip = 1\n",
    "\n",
    "\n",
    "while True:\n",
    "    \n",
    "    with zipfile.ZipFile(caminho + \"SRE_\" + sre + \"_2.3_ATER 0\" + str(num_zip) + \".zip\", mode=\"w\") as arquivo_zip:\n",
    "        soma = 0\n",
    "        for arquivo in arquivos:\n",
    "            print(arquivos[indice])\n",
    "\n",
    "            tamanho_arquivo = os.path.getsize(caminho + arquivos[indice])\n",
    "            print(\"O tamanho do arquivo é:\", tamanho_arquivo, \"bytes ou\", round(tamanho_arquivo/(1024 * 1024), 2), \"Mb\")\n",
    "            print(\"\")\n",
    "            soma = soma + tamanho_arquivo\n",
    "\n",
    "            if(soma < tamanho_limite):\n",
    "                \n",
    "                shutil.move(caminho + arquivos[indice], onde_esta_o_arquivo_do_codigo)\n",
    "                \n",
    "                arquivo_zip.write(arquivos[indice])\n",
    "                \n",
    "                shutil.move(onde_esta_o_arquivo_do_codigo + arquivos[indice], caminho)\n",
    "                \n",
    "                indice += 1\n",
    "                \n",
    "                pass\n",
    "            else:\n",
    "                num_zip += 1\n",
    "                break\n",
    "\n",
    "    print(\"-\" * 20)\n",
    "    \n",
    "\n"
   ]
  }
 ],
 "metadata": {
  "kernelspec": {
   "display_name": "Python 3 (ipykernel)",
   "language": "python",
   "name": "python3"
  },
  "language_info": {
   "codemirror_mode": {
    "name": "ipython",
    "version": 3
   },
   "file_extension": ".py",
   "mimetype": "text/x-python",
   "name": "python",
   "nbconvert_exporter": "python",
   "pygments_lexer": "ipython3",
   "version": "3.9.7"
  }
 },
 "nbformat": 4,
 "nbformat_minor": 5
}
