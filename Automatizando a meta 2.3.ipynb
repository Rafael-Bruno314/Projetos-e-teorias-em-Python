{
 "cells": [
  {
   "cell_type": "markdown",
   "id": "d097e538",
   "metadata": {},
   "source": [
    "pip install selenium"
   ]
  },
  {
   "cell_type": "markdown",
   "id": "60b103e9",
   "metadata": {},
   "source": [
    "pip install xeus-python"
   ]
  },
  {
   "cell_type": "markdown",
   "id": "ef6a3017",
   "metadata": {},
   "source": [
    "### Função pra transformar a lista de infos na string a se renomear os arquivos"
   ]
  },
  {
   "cell_type": "code",
   "execution_count": 1,
   "id": "38ca9cb4",
   "metadata": {},
   "outputs": [],
   "source": [
    "def formatar_string(list_info):\n",
    "    \n",
    "    meta = list_info[3][17:20]\n",
    "    município = list_info[1]\n",
    "    cliente = list_info[4].split()\n",
    "    data = list_info[5].split('/')\n",
    "    \n",
    "    if(meta == \"2.3\"):\n",
    "        nome_do_arquivo = meta + \"_\" + município + \"_\" + cliente[0] + \" \" + cliente[-1] + \"_\" + data[2] + \".\" + data[1] + \".\" + data[0] + \".pdf\"\n",
    "    else:\n",
    "        nome_do_arquivo = meta + \"_\" + município + \"_\" + cliente[0] + \" \" + cliente[1] + \" et al\" + \"_\" + data[2] + \".\" + data[1] + \".\" + data[0] + \".pdf\"\n",
    "            \n",
    "    return nome_do_arquivo"
   ]
  },
  {
   "cell_type": "markdown",
   "id": "2007604a",
   "metadata": {},
   "source": [
    "### Função pra pegar o nome original do arquivo"
   ]
  },
  {
   "cell_type": "code",
   "execution_count": 2,
   "id": "cb4d9927",
   "metadata": {},
   "outputs": [],
   "source": [
    "def pegar_nome_original(timer, directory):\n",
    "    \n",
    "    time.sleep(timer)\n",
    "    \"\"\"\n",
    "        Tem formas avançadas de determinar se o arquivo foi baixado. Aqui alguns links\n",
    "        https://stackoverflow.com/questions/34338897/python-selenium-find-out-when-a-download-has-completed/34338926#34338926\n",
    "        https://stackoverflow.com/questions/21746750/check-and-wait-until-a-file-exists-to-read-it\n",
    "    \"\"\"\n",
    "    \n",
    "    data_criacao = lambda f: f.stat().st_ctime\n",
    "\n",
    "    files = directory.glob('*.pdf')\n",
    "    nome_original = sorted(files, key=data_criacao, reverse=True)\n",
    "    \n",
    "    \"\"\"\n",
    "    Essa função vai pegar todos os pdfs da pasta e colocar o caminho deles em uma lista(nome_original) da qual eu vou pegar o\n",
    "    primeiro termo que seria o mais recente criado. Então por tudo que é mais sagrado, que não tenha outros arquivos pdfs de\n",
    "    outra natureza nessa pasta senão vai renomear e mover ele.\n",
    "    \"\"\"\n",
    "    \n",
    "    if not nome_original:\n",
    "        nome_original.append(\"Alguma coisa\")\n",
    "\n",
    "    return nome_original[0] #Tem o endereço completo ou a expressão \"Alguma coisa\"\n",
    "    \n",
    "    "
   ]
  },
  {
   "cell_type": "markdown",
   "id": "513e43e0",
   "metadata": {},
   "source": [
    "Criando sufixos (n) para arquivos de mesmo nome e talvez assuntos diferentes"
   ]
  },
  {
   "cell_type": "code",
   "execution_count": 3,
   "id": "fafec592",
   "metadata": {},
   "outputs": [],
   "source": [
    "def nome_formatado_sufixo(nome_formatado, n):\n",
    "    nome_formatado = nome_formatado[:-4]\n",
    "    nome_formatado = nome_formatado + f\" ({n})\" + \".pdf\"\n",
    "    \n",
    "    return nome_formatado\n",
    "    "
   ]
  },
  {
   "cell_type": "markdown",
   "id": "eed4a93f",
   "metadata": {},
   "source": [
    "### Renomeando e movendo o arquivo baixado"
   ]
  },
  {
   "cell_type": "code",
   "execution_count": 4,
   "id": "6e728b3e",
   "metadata": {},
   "outputs": [],
   "source": [
    "def renomear_e_mover_arquivo(nome_formatado, nome_original, SRE, path, uregi):\n",
    "\n",
    "    meta = nome_formatado[:3]\n",
    "    \n",
    "    if(nome_original != \"Alguma coisa\"):\n",
    "        n = 1\n",
    "        \n",
    "        os.rename(nome_original, nome_formatado)\n",
    "        \n",
    "        endereco_do_arquivo_a_ser_movido = path + nome_formatado\n",
    "    \n",
    "        diretório_de_destino = path + \"Evidencias das Uregis - Transição\\\\\" + SRE + \"\\\\\" + meta\n",
    "        \n",
    "        arquivo_de_destino = diretório_de_destino + \"\\\\\" + nome_formatado\n",
    "        my_file = Path(arquivo_de_destino)\n",
    "        if my_file.is_file():\n",
    "            \n",
    "            while my_file.is_file():                \n",
    "                \n",
    "                if n == 1:\n",
    "                    os.rename(nome_formatado, nome_formatado_sufixo(nome_formatado, n))\n",
    "                else:\n",
    "                    #nome_formatado_sufixo_menos1 = nome_formatado + f\" ({n-1})\"\n",
    "                    os.rename(nome_formatado_sufixo(nome_formatado, n-1), nome_formatado_sufixo(nome_formatado, n))\n",
    "\n",
    "                endereco_do_arquivo_a_ser_movido = path + nome_formatado_sufixo(nome_formatado, n)\n",
    "                \n",
    "                arquivo_de_destino = diretório_de_destino + \"\\\\\" + nome_formatado_sufixo(nome_formatado, n)\n",
    "                my_file = Path(arquivo_de_destino)\n",
    "                \n",
    "                if my_file.is_file():\n",
    "                    n += 1\n",
    "                else:\n",
    "                    shutil.move(endereco_do_arquivo_a_ser_movido,diretório_de_destino)\n",
    "                    break\n",
    "                    \n",
    "            with open(fr'{path}\\\\{uregi[12:]}.txt', 'a') as file:\n",
    "                file.write(f\"O arquivo já existia na pasta mas foi adicionado este com o sufixo ({n})\")\n",
    "                file.write(\"\\n\\n\\n\")\n",
    "            \n",
    "        else:\n",
    "            shutil.move(endereco_do_arquivo_a_ser_movido,diretório_de_destino)\n",
    "            \n",
    "    else:\n",
    "        with open(fr'{path}\\\\{uregi[12:]}.txt', 'a') as file:\n",
    "            file.write(\"O arquivo o arquivo não foi encontrado ou baixado ou renomeado ou movido. Precisa-se de tratamento manual :/\")\n",
    "            file.write(\"\\n\\n\\n\")\n",
    "        \n",
    "        "
   ]
  },
  {
   "cell_type": "markdown",
   "id": "9ccc5af9",
   "metadata": {},
   "source": [
    "### Gerando a lista que irá para o txt"
   ]
  },
  {
   "cell_type": "code",
   "execution_count": 5,
   "id": "179c865d",
   "metadata": {},
   "outputs": [],
   "source": [
    "def gera_lista_txt(list_info):\n",
    "    \n",
    "    meta = list_info[3][17:20]\n",
    "    lista_para_txt = list_info.copy()\n",
    "    \n",
    "    lista_de_nomes = lista_para_txt[4].split()\n",
    "    lista_de_nomes = lista_de_nomes[:2]\n",
    "    \n",
    "    if(meta != \"2.3\"):\n",
    "        lista_de_nomes.append(\"et al\")\n",
    "        \n",
    "    nomes_em_string = ' '.join(lista_de_nomes)\n",
    "    \n",
    "    lista_para_txt[4] = nomes_em_string\n",
    "        \n",
    "    return lista_para_txt"
   ]
  },
  {
   "cell_type": "markdown",
   "id": "510562b7",
   "metadata": {},
   "source": [
    "### Gerando o arquivo de txt com as infos de cada Uregi"
   ]
  },
  {
   "cell_type": "code",
   "execution_count": 6,
   "id": "47792f5e",
   "metadata": {},
   "outputs": [],
   "source": [
    "def arquivo_txt(infos, nome_do_arquivo, uregi, path):\n",
    "\n",
    "    # Convertendo a lista em string\n",
    "    infos_str = '; '.join(infos)\n",
    "    \n",
    "    with open(fr'{path}\\\\{uregi[12:]}.txt', 'a') as file:\n",
    "        file.write(infos_str)\n",
    "        file.write(\"\\n\")\n",
    "        file.write(nome_do_arquivo)\n",
    "        file.write(\"\\n\\n\")"
   ]
  },
  {
   "cell_type": "markdown",
   "id": "51837f51",
   "metadata": {},
   "source": [
    "## Código completo"
   ]
  },
  {
   "cell_type": "code",
   "execution_count": 15,
   "id": "43efecf7",
   "metadata": {},
   "outputs": [
    {
     "ename": "KeyboardInterrupt",
     "evalue": "",
     "output_type": "error",
     "traceback": [
      "\u001b[1;31m---------------------------------------------------------------------------\u001b[0m",
      "\u001b[1;31mKeyboardInterrupt\u001b[0m                         Traceback (most recent call last)",
      "\u001b[1;32m~\\AppData\\Local\\Temp/ipykernel_3712/799346184.py\u001b[0m in \u001b[0;36m<module>\u001b[1;34m\u001b[0m\n\u001b[0;32m     80\u001b[0m             \u001b[0mdriver\u001b[0m\u001b[1;33m.\u001b[0m\u001b[0mfind_element\u001b[0m\u001b[1;33m(\u001b[0m\u001b[0mBy\u001b[0m\u001b[1;33m.\u001b[0m\u001b[0mLINK_TEXT\u001b[0m\u001b[1;33m,\u001b[0m \u001b[1;34m\"Download\"\u001b[0m\u001b[1;33m)\u001b[0m\u001b[1;33m.\u001b[0m\u001b[0mclick\u001b[0m\u001b[1;33m(\u001b[0m\u001b[1;33m)\u001b[0m\u001b[1;33m\u001b[0m\u001b[1;33m\u001b[0m\u001b[0m\n\u001b[0;32m     81\u001b[0m \u001b[1;33m\u001b[0m\u001b[0m\n\u001b[1;32m---> 82\u001b[1;33m             \u001b[0mtime\u001b[0m\u001b[1;33m.\u001b[0m\u001b[0msleep\u001b[0m\u001b[1;33m(\u001b[0m\u001b[1;36m1\u001b[0m\u001b[1;33m)\u001b[0m \u001b[1;31m# Importante pois às vezes a aba fecha antes de iniciar o download por questões de internet mesmo\u001b[0m\u001b[1;33m\u001b[0m\u001b[1;33m\u001b[0m\u001b[0m\n\u001b[0m\u001b[0;32m     83\u001b[0m             \u001b[0mdriver\u001b[0m\u001b[1;33m.\u001b[0m\u001b[0mclose\u001b[0m\u001b[1;33m(\u001b[0m\u001b[1;33m)\u001b[0m\u001b[1;33m\u001b[0m\u001b[1;33m\u001b[0m\u001b[0m\n\u001b[0;32m     84\u001b[0m \u001b[1;33m\u001b[0m\u001b[0m\n",
      "\u001b[1;31mKeyboardInterrupt\u001b[0m: "
     ]
    }
   ],
   "source": [
    "from selenium import webdriver\n",
    "from selenium.webdriver.support.select import Select\n",
    "from selenium.webdriver.common.by import By\n",
    "from pathlib import Path\n",
    "import time\n",
    "import os\n",
    "import shutil\n",
    "\n",
    "\n",
    "# Variáveis que podem/devem ser alteradas conforme a necessidade\n",
    "\n",
    "uregi = \"Regional de Januária\"\n",
    "# Coloca-se o texto que está na caixa de seleção para escolher a uregi de interesse\n",
    "linha = 2 \n",
    "# É a linha onde o programa vai iniciar o processo (linha = 2 é o padrão, a primeira linha)\n",
    "timer = 3 \n",
    "# É o tempo de espera (seg) para fazer o download do arquivo e pegar o nome desse arquivo\n",
    "directory = Path(r'C:\\Users\\61445\\Downloads') \n",
    "# Endereço da pasta onde os arquivos são baixados versão módulo 'os'\n",
    "path = 'C:\\\\Users\\\\61445\\\\Downloads\\\\' \n",
    "# Endereço da pasta onde os arquivos são baixados versão string\n",
    "# Lembrar de sempre alterar o caminho do directory e path juntos.\n",
    "\n",
    "\n",
    "# Inciando a seção e abrindo a tabela da uregi escolhida\n",
    "driver = webdriver.Chrome()\n",
    "driver.maximize_window()\n",
    "original_window = driver.current_window_handle\n",
    "\n",
    "driver.get(\"https://www.emater.mg.gov.br/portal.do?flagweb=novaintranet_pgn_pmater_educ_lista_uregi\")\n",
    "\n",
    "select_element = driver.find_element(By.ID,'uregi')\n",
    "select_object = Select(select_element)\n",
    "\n",
    "select_object.select_by_visible_text(uregi)\n",
    "\n",
    "search_button = driver.find_element(By.ID, \"ok\")\n",
    "search_button.click()\n",
    "\n",
    "\n",
    "list_info = [] # lista que conterá todas as informações de cada linha da tabela\n",
    "scroll = driver.find_element(By.XPATH, f\"/html/body/div[1]/div/div\").rect['height'] # Armazena a soma das alturas das linhas da tabela\n",
    "\n",
    "# Procura se a linha escolhida está visível, senão o programa irá descer a tela até ela se tornar.\n",
    "try:\n",
    "    driver.find_element(By.XPATH, f\"/html/body/section/div/div[1]/table/tbody/tr[{linha}]/td[7]/a/img\").click()\n",
    "except:\n",
    "    for i in range(2,linha): #Nesse caso, desço até o fim da linha anterior abrindo espaço pra linha de interesse\n",
    "        scroll += driver.find_element(By.XPATH, f\"/html/body/section/div/div[1]/table/tbody/tr[{i}]\").rect['height']\n",
    "    driver.execute_script(f\"window.scrollTo(500,{scroll})\")\n",
    "else:\n",
    "    driver.switch_to.window(driver.window_handles[1])\n",
    "    driver.close()\n",
    "    driver.switch_to.window(original_window)\n",
    "\n",
    "finally:    \n",
    "    while True:\n",
    "\n",
    "        #Pegando as informações de cada linha e colocando em uma lista\n",
    "        list_info.append(f\"Índice: {linha - 1}\")\n",
    "        for i in range(2,7):\n",
    "            list_info.append(driver.find_element(By.XPATH, f\"/html/body/section/div/div[1]/table/tbody/tr[{linha}]/td[{i}]\").text)\n",
    "\n",
    "        # Clicando na imagem para abrir a aba de download\n",
    "        driver.find_element(By.XPATH, f\"/html/body/section/div/div[1]/table/tbody/tr[{linha}]/td[7]/a/img\").click()\n",
    "        \n",
    "        try:\n",
    "             driver.switch_to.window(driver.window_handles[1])\n",
    "\n",
    "        except:\n",
    "            # raise Exception(\"Não foi possível abrir a aba desse arquivo\") # Só pra depuração\n",
    "\n",
    "            scroll += driver.find_element(By.XPATH, f\"/html/body/section/div/div[1]/table/tbody/tr[{linha}]\").rect['height']\n",
    "            driver.execute_script(f\"window.scrollTo(500,{scroll})\") #x,y\n",
    "\n",
    "            linha = linha + 1\n",
    "            list_info.clear()\n",
    "\n",
    "        else:\n",
    "            driver.find_element(By.LINK_TEXT, \"Download\").click()\n",
    "            \n",
    "            time.sleep(1) # Importante pois às vezes a aba fecha antes de iniciar o download por questões de internet mesmo\n",
    "            driver.close()\n",
    "\n",
    "            driver.switch_to.window(original_window)\n",
    "\n",
    "\n",
    "            # Irá gerar o txt com as informações caso dê algum problema na automação\n",
    "            arquivo_txt(gera_lista_txt(list_info), formatar_string(list_info), uregi, path)\n",
    "            \"\"\"\n",
    "                gera_lista_txt: \n",
    "                    Retorna a linha da tabela em formato de string (cortando uma parte dos nomes quando tiver muitos pra não ficar confuso.)\n",
    "                formatar_string:\n",
    "                    Retorna o nome que o arquivo deve ter conforme o padrão\n",
    "                uregi:\n",
    "                    O nome da Uregi escolhida que será o nome do arquivo txt\n",
    "            \"\"\"\n",
    "\n",
    "\n",
    "            # Renomeia e move o arquivo pra sua pasta correta\n",
    "            renomear_e_mover_arquivo(formatar_string(list_info), pegar_nome_original(timer, directory), list_info[2], path, uregi)\n",
    "            \"\"\"\n",
    "                formatar_string:\n",
    "                    Retorna o nome que o arquivo deve ter conforme o padrão\n",
    "                pegar_nome_original:\n",
    "                    Retorna o endereço e nome do arquivo mais recente criado (ou seja, o arquivo das metas baixado)\n",
    "                list_info[2]:\n",
    "                    É apenas a SRE da cidade da linha analisada\n",
    "            \"\"\"\n",
    "            \n",
    "            \n",
    "            # Eu peço pra que a tela desça o tamanho da altura da linha analizada para abrir caminho para que a próxima linha possa estar visível\n",
    "            scroll += driver.find_element(By.XPATH, f\"/html/body/section/div/div[1]/table/tbody/tr[{linha}]\").rect['height']\n",
    "            driver.execute_script(f\"window.scrollTo(500,{scroll})\")\n",
    "            \n",
    "            #raise Exception(scroll) # Só pra depuração\n",
    "\n",
    "            linha = linha + 1\n",
    "            list_info.clear() #limpa a lista para o próximo turno\n",
    "            "
   ]
  }
 ],
 "metadata": {
  "celltoolbar": "Raw Cell Format",
  "kernelspec": {
   "display_name": "Python 3 (ipykernel)",
   "language": "python",
   "name": "python3"
  },
  "language_info": {
   "codemirror_mode": {
    "name": "ipython",
    "version": 3
   },
   "file_extension": ".py",
   "mimetype": "text/x-python",
   "name": "python",
   "nbconvert_exporter": "python",
   "pygments_lexer": "ipython3",
   "version": "3.9.7"
  }
 },
 "nbformat": 4,
 "nbformat_minor": 5
}
