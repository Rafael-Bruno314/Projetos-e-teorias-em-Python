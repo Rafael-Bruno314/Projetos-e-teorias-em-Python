{
 "cells": [
  {
   "cell_type": "markdown",
   "id": "cd57e92c",
   "metadata": {},
   "source": [
    "pip install PDFNetPython3"
   ]
  },
  {
   "cell_type": "code",
   "execution_count": null,
   "id": "b00c302d",
   "metadata": {},
   "outputs": [],
   "source": [
    "# Import Libraries\n",
    "import os\n",
    "import sys\n",
    "from PDFNetPython3.PDFNetPython import PDFDoc, Optimizer, SDFDoc, PDFNet"
   ]
  },
  {
   "cell_type": "code",
   "execution_count": null,
   "id": "32e2dfd4",
   "metadata": {},
   "outputs": [],
   "source": [
    "def get_size_format(b, factor=1024, suffix=\"B\"):\n",
    "    \"\"\"\n",
    "    Scale bytes to its proper byte format\n",
    "    e.g:\n",
    "        1253656 => '1.20MB'\n",
    "        1253656678 => '1.17GB'\n",
    "    \"\"\"\n",
    "    for unit in [\"\", \"K\", \"M\", \"G\", \"T\", \"P\", \"E\", \"Z\"]:\n",
    "        if b < factor:\n",
    "            return f\"{b:.2f}{unit}{suffix}\"\n",
    "        b /= factor\n",
    "    return f\"{b:.2f}Y{suffix}\""
   ]
  },
  {
   "cell_type": "code",
   "execution_count": null,
   "id": "bb439035",
   "metadata": {},
   "outputs": [],
   "source": [
    "def compress_file(input_file: str, output_file: str):\n",
    "    \"\"\"Compress PDF file\"\"\"\n",
    "    if not output_file:\n",
    "        output_file = input_file\n",
    "    initial_size = os.path.getsize(input_file)\n",
    "    try:\n",
    "        # Initialize the library\n",
    "        PDFNet.Initialize(\"demo:1652721067096:7b89dd1603000000008ca8f036d3c1112cd0debd5cca3f78321ecf6f88\")\n",
    "        doc = PDFDoc(input_file)\n",
    "        # Optimize PDF with the default settings\n",
    "        doc.InitSecurityHandler()\n",
    "        # Reduce PDF size by removing redundant information and compressing data streams\n",
    "        Optimizer.Optimize(doc)\n",
    "        doc.Save(output_file, SDFDoc.e_linearized)\n",
    "        doc.Close()\n",
    "    except Exception as e:\n",
    "        print(\"Error compress_file=\", e)\n",
    "        doc.Close()\n",
    "        return False\n",
    "    compressed_size = os.path.getsize(output_file)\n",
    "    ratio = 1 - (compressed_size / initial_size)\n",
    "    summary = {\n",
    "        \"Input File\": input_file, \"Initial Size\": get_size_format(initial_size),\n",
    "        \"Output File\": output_file, f\"Compressed Size\": get_size_format(compressed_size),\n",
    "        \"Compression Ratio\": \"{0:.3%}.\".format(ratio)\n",
    "    }\n",
    "    # Printing Summary\n",
    "    print(\"--------------------- Resumo da compressão ------------------------\")\n",
    "    print(\"\\n\".join(\"{}:{}\".format(i, j) for i, j in summary.items()))\n",
    "    print(\"-------------------------------------------------------------------\")\n",
    "    print(\"\")\n",
    "    return True"
   ]
  },
  {
   "cell_type": "code",
   "execution_count": null,
   "id": "ab7f79d5",
   "metadata": {},
   "outputs": [],
   "source": [
    "if __name__ == \"__main__\":\n",
    "    \n",
    "    \"\"\" Não esquecer de criar a pasta 'Arquivos comprimidos' para todas as SREs que for comprimir \"\"\"\n",
    "    \n",
    "    # Colocar a SRE que se deseja analisar\n",
    "    sre = \"Belo Horizonte\"\n",
    "    # Atualmente está endereçada para o drive interno\n",
    "    pasta_dos_arquivos_grandes = \"Z:\\\\Organizacao-Mercado\\\\Comprovações SREs\\\\\" + sre + \"\\\\Meta 2.3 - Ater OeM\\\\Enviar SEI\\\\\"\n",
    "    #pasta_dos_arquivos_grandes = \"C:\\\\Users\\\\61445\\\\Downloads\\\\\" + sre + \"\\\\\"\n",
    "    \n",
    "    \n",
    "    arquivos = os.listdir(pasta_dos_arquivos_grandes)\n",
    "    \n",
    "    for arquivo in arquivos:\n",
    "        compress_file(pasta_dos_arquivos_grandes + arquivo, pasta_dos_arquivos_grandes + \"Arquivos comprimidos\\\\\" + arquivo)\n"
   ]
  }
 ],
 "metadata": {
  "kernelspec": {
   "display_name": "Python 3 (ipykernel)",
   "language": "python",
   "name": "python3"
  },
  "language_info": {
   "codemirror_mode": {
    "name": "ipython",
    "version": 3
   },
   "file_extension": ".py",
   "mimetype": "text/x-python",
   "name": "python",
   "nbconvert_exporter": "python",
   "pygments_lexer": "ipython3",
   "version": "3.9.7"
  }
 },
 "nbformat": 4,
 "nbformat_minor": 5
}
